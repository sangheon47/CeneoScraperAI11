{
 "cells": [
  {
   "attachments": {},
   "cell_type": "markdown",
   "metadata": {},
   "source": [
    "# Ceneo Scraper"
   ]
  },
  {
   "attachments": {},
   "cell_type": "markdown",
   "metadata": {},
   "source": [
    "## Extraction of components of single opinion\n",
    "\n",
    "|component|Selector|Key|\n",
    "|---------|--------|--------|\n",
    "|opinion ID|[\"data-entry-id\"]|opinion_id|\n",
    "|opinion’s author|span.user-post__author-name|author|\n",
    "|author’s recommendation|span.user-post__author-recomendation >  em|recommendation|\n",
    "|score expressed in number of stars|span.user-post__score-count|score|\n",
    "|opinion’s content|div.user-post__text|content|\n",
    "|list of product advantages|div.review-feature__title review-feature__title--positives ~ div.review-feature__item|pros|\n",
    "|list of product disadvantages|div.review-feature__title review-feature__title--negatives ~ div.review-feature__item|cons|\n",
    "|how many users think that opinion was helpful|button.vote-yes > span|helpful|\n",
    "|how many users think that opinion was unhelpful|button.vote-no > span|unhelpful|\n",
    "|publishing date|span.user-post__published > time:nth-child(1)[\"datetime\"]|publish_date|\n",
    "|purchase date|span.user-post__published > time:nth-child(2)[\"datetime\"]|purchase_date|\n",
    "\n"
   ]
  },
  {
   "attachments": {},
   "cell_type": "markdown",
   "metadata": {},
   "source": [
    "## structure of single opinion"
   ]
  },
  {
   "cell_type": "code",
   "execution_count": 192,
   "metadata": {},
   "outputs": [],
   "source": [
    "selectors = {\n",
    "    \"opinion_id\" :[ None, \"data-entry-id\"],\n",
    "    \"author\" :[\"span.user-post__author-name\"],\n",
    "    \"recommendation\" :[\"span.user-post__author-recomendation > em\"],\n",
    "    \"score\" : [\"span.user-post__score-count\"],\n",
    "    \"content\" : [\"div.user-post__text\"],\n",
    "    \"pros\" :  [\"div.review-feature__title review-feature__title--positives ~ div.review-feature__item\", None, True],\n",
    "    \"cons\" :  [\"div.review-feature__title review-feature__title--negatives ~ div.review-feature__item\", None, True],\n",
    "    \"helpful\" : [\"button.vote-yes > span\"],\n",
    "    \"unhelpful\" : [\"button.vote-no > span\"],\n",
    "    \"publish_date\" : [\"span.user-post__published > time:nth-child(1)\",\"datetime\"],\n",
    "    \"purchase_date\" : [\"span.user-post__published > time:nth-child(2)\",\"datetime\"],\n",
    "}\n"
   ]
  },
  {
   "cell_type": "code",
   "execution_count": 193,
   "metadata": {},
   "outputs": [],
   "source": [
    "def rate(score):\n",
    "    score = score.split(\"/\")\n",
    "    return float(score.split(\"/\")[0].replace(\",\",\".\"))/float(score.split(\"/\")[1])\n",
    "def recommend(recommendation):\n",
    "    return True if recommendation ==  \"Polecam\" else False if recommendation == \"Nie polecam\" else None"
   ]
  },
  {
   "cell_type": "code",
   "execution_count": 194,
   "metadata": {},
   "outputs": [],
   "source": [
    "transformations = {\n",
    "    \"recommendation\" : recommend,\n",
    "    \"score\" : rate,\n",
    "    \"helpful\" : int,\n",
    "    \"unhelpful\" : int,\n",
    "}\n"
   ]
  },
  {
   "attachments": {},
   "cell_type": "markdown",
   "metadata": {},
   "source": [
    "## Loading libraries"
   ]
  },
  {
   "cell_type": "code",
   "execution_count": 195,
   "metadata": {},
   "outputs": [],
   "source": [
    "import os\n",
    "#import json\n",
    "import requests\n",
    "from bs4 import BeautifulSoup"
   ]
  },
  {
   "attachments": {},
   "cell_type": "markdown",
   "metadata": {},
   "source": [
    "## Function to extract data from HTML code"
   ]
  },
  {
   "cell_type": "code",
   "execution_count": 196,
   "metadata": {},
   "outputs": [],
   "source": [
    "def extract(ancestor, selector = None, attribute = None, return_list = False):\n",
    "    if return_list:\n",
    "        if attribute:\n",
    "            return [tag[attribute] for tag in ancestor.select(selector)]\n",
    "        return [tag.get_text().strip() for tag in ancestor.select(selector)]\n",
    "    \n",
    "    if selector:\n",
    "        if attribute:\n",
    "            try:\n",
    "                return ancestor.select_one(selector)[attribute]\n",
    "            except TypeError:\n",
    "                return None\n",
    "    \n",
    "        try:\n",
    "            return ancestor.select_one(selector).get_text().strip()\n",
    "        except AttributeError:\n",
    "            return None\n",
    "    \n",
    "    if attribute:\n",
    "        return ancestor[attribute]\n",
    "    return ancestor.get_text().strip()"
   ]
  },
  {
   "attachments": {},
   "cell_type": "markdown",
   "metadata": {},
   "source": [
    "## URL address for first page with opinions abouut product"
   ]
  },
  {
   "cell_type": "code",
   "execution_count": 197,
   "metadata": {},
   "outputs": [],
   "source": [
    "product_id = \"158793489\"\n",
    "url = f\"https://www.ceneo.pl/{product_id}#tab=reviews\""
   ]
  },
  {
   "cell_type": "code",
   "execution_count": 198,
   "metadata": {},
   "outputs": [
    {
     "data": {
      "text/plain": [
       "'https://www.ceneo.pl/158793489#tab=reviews'"
      ]
     },
     "execution_count": 198,
     "metadata": {},
     "output_type": "execute_result"
    }
   ],
   "source": [
    "url"
   ]
  },
  {
   "attachments": {},
   "cell_type": "markdown",
   "metadata": {},
   "source": [
    "## Extracting all opinions from HTML code"
   ]
  },
  {
   "cell_type": "code",
   "execution_count": 199,
   "metadata": {},
   "outputs": [
    {
     "name": "stdout",
     "output_type": "stream",
     "text": [
      "https://www.ceneo.pl/158793489#tab=reviews\n"
     ]
    },
    {
     "ename": "AttributeError",
     "evalue": "'dict' object has no attribute 'item'",
     "output_type": "error",
     "traceback": [
      "\u001b[1;31m---------------------------------------------------------------------------\u001b[0m",
      "\u001b[1;31mAttributeError\u001b[0m                            Traceback (most recent call last)",
      "Cell \u001b[1;32mIn[199], line 12\u001b[0m\n\u001b[0;32m      7\u001b[0m \u001b[39mfor\u001b[39;00m opinion \u001b[39min\u001b[39;00m opinions:\n\u001b[0;32m      8\u001b[0m     single_opinion \u001b[39m=\u001b[39m {\n\u001b[0;32m      9\u001b[0m         key: extract(opinion, \u001b[39m*\u001b[39mvalue)\n\u001b[0;32m     10\u001b[0m             \u001b[39mfor\u001b[39;00m key, value \u001b[39min\u001b[39;00m selectors\u001b[39m.\u001b[39mitems()\n\u001b[0;32m     11\u001b[0m     }\n\u001b[1;32m---> 12\u001b[0m     \u001b[39mfor\u001b[39;00m key, value \u001b[39min\u001b[39;00m transformations\u001b[39m.\u001b[39;49mitem():\n\u001b[0;32m     13\u001b[0m         single_opinion[key] \u001b[39m=\u001b[39m \u001b[39mmap\u001b[39m(value, single_opinion[key])\n\u001b[0;32m     14\u001b[0m     all_opinions\u001b[39m.\u001b[39mappend(single_opinion)\n",
      "\u001b[1;31mAttributeError\u001b[0m: 'dict' object has no attribute 'item'"
     ]
    }
   ],
   "source": [
    "all_opinions = []\n",
    "while(url):\n",
    "    print(url)\n",
    "    response = requests.get(url)\n",
    "    page_dom= BeautifulSoup(response.text, \"html.parser\")\n",
    "    opinions = page_dom.select(\"div.js_product-review\")\n",
    "    for opinion in opinions:\n",
    "        single_opinion = {\n",
    "            key: extract(opinion, *value)\n",
    "                for key, value in selectors.items()\n",
    "        }\n",
    "        for key, value in transformations.item():\n",
    "            single_opinion[key] = map(value, single_opinion[key])\n",
    "        all_opinions.append(single_opinion)\n",
    "    try:\n",
    "        url = \"https://www.ceneo.pl\"+extract(page_dom, \"a.pagination__next\", \"href\")\n",
    "    except TypeError:\n",
    "        url = None\n"
   ]
  },
  {
   "attachments": {},
   "cell_type": "markdown",
   "metadata": {},
   "source": [
    "## Saving all opinions to JSON file"
   ]
  },
  {
   "cell_type": "code",
   "execution_count": null,
   "metadata": {},
   "outputs": [],
   "source": [
    "if not os.path.exists(\"opinions\"):\n",
    "    os.mkdir(\"opinions\")\n",
    "jf = open(f\"opinions/{product_id}.json\", \"w\", encoding=\"UTF-8\")\n",
    "json.dump(all_opinions, jf, indent=4, ensure_ascii=False)\n",
    "jf.close()"
   ]
  },
  {
   "cell_type": "code",
   "execution_count": null,
   "metadata": {},
   "outputs": [],
   "source": [
    "for index, single_opinion in enumerate(all_opinions):\n",
    "    print(index)\n",
    "    for key, value in transformations.item():\n",
    "            map(value, [single_opinion[key]])\n",
    "            # single_opinion[key] = map(value, single_opinion[key])"
   ]
  },
  {
   "cell_type": "code",
   "execution_count": null,
   "metadata": {},
   "outputs": [],
   "source": []
  }
 ],
 "metadata": {
  "kernelspec": {
   "display_name": ".venv",
   "language": "python",
   "name": "python3"
  },
  "language_info": {
   "codemirror_mode": {
    "name": "ipython",
    "version": 3
   },
   "file_extension": ".py",
   "mimetype": "text/x-python",
   "name": "python",
   "nbconvert_exporter": "python",
   "pygments_lexer": "ipython3",
   "version": "3.11.4"
  },
  "orig_nbformat": 4
 },
 "nbformat": 4,
 "nbformat_minor": 2
}
