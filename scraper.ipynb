{
 "cells": [
  {
   "attachments": {},
   "cell_type": "markdown",
   "metadata": {},
   "source": [
    "# Ceneo Scraper"
   ]
  },
  {
   "attachments": {},
   "cell_type": "markdown",
   "metadata": {},
   "source": [
    "## Loading libraries"
   ]
  },
  {
   "cell_type": "code",
   "execution_count": 11,
   "metadata": {},
   "outputs": [],
   "source": [
    "import requests\n",
    "from bs4 import BeautifulSoup"
   ]
  },
  {
   "attachments": {},
   "cell_type": "markdown",
   "metadata": {},
   "source": [
    "## Sending requests to Ceneo.pl server"
   ]
  },
  {
   "cell_type": "code",
   "execution_count": 12,
   "metadata": {},
   "outputs": [],
   "source": [
    "product_id = \"158793489\"\n",
    "url = f\"https://www.ceneo.pl/{product_id}#tab=reviews\"\n",
    "response = requests.get(url)"
   ]
  },
  {
   "cell_type": "code",
   "execution_count": 16,
   "metadata": {},
   "outputs": [
    {
     "name": "stdout",
     "output_type": "stream",
     "text": [
      "<class 'bs4.BeautifulSoup'>\n",
      "<class 'bs4.element.ResultSet'>\n",
      "<class 'bs4.element.Tag'>\n",
      "<div class=\"user-post user-post__card js_product-review\" data-entry-id=\"18278202\">\n",
      "<header class=\"user-post__header\">\n",
      "<div class=\"js_lazy user-post__avatar user-rank__avatar\" data-bg=\"/Content/img/account/avatar/1.svg\"></div>\n",
      "</header>\n",
      "<div class=\"user-post__body\">\n",
      "<div class=\"user-post__content\">\n",
      "<span class=\"user-post__author-name\">\n",
      "I...s</span>\n",
      "<span class=\"user-post__author-recomendation\">\n",
      "<em class=\"recommended\">Polecam</em>\n",
      "</span>\n",
      "<span class=\"user-post__score\">\n",
      "<span class=\"screen-reader-text\">Ocena:</span>\n",
      "<span class=\"score-container score-container--s js_score-container\">\n",
      "<span class=\"score-marker score-marker--s\" style=\"width: 100.00%;\"></span>\n",
      "</span>\n",
      "<span class=\"user-post__score-count\">5/5</span>\n",
      "<span class=\"user-post__published\">\n",
      "        Wystawiono\n",
      "        <time datetime=\"2024-01-05 15:06:09\">3 miesiące temu, </time>\n",
      "<time datetime=\"2023-12-15 15:45:57\">po 3 tygodniach</time> użytkowania            </span>\n",
      "</span>\n",
      "<div class=\"user-post__text\">Wielki, Szeroki, Zakrzywiony. Wszystko czego chciałem, żre prund bo prawie 240V ale jaka jakość obrazu! Za tą cenę 34 cale to naprawdę polecam.</div>\n",
      "<div class=\"review-pictures js_product-review-carousel\" data-hide-controls=\"true\">\n",
      "<div class=\"review-pictures__item js_product-image-miniature_el active\">\n",
      "<a class=\"js_gallery-trigger js_gallery-item js_gallery-anchor\" data-index=\"0\" data-type=\"img_user\" href=\"//image.ceneostatic.pl/data/reviews/18278202/f419b275-4d25-4fbd-b088-77a2caa24aa9_r-iiyama-34-gcb3480wqsu-b1.jpg\">\n",
      "<img alt='Iiyama 34\" GCB3480WQSU-B1' class=\"js_gallery-media js_review-product-thumb js_gallery-photo review-pictures__photo js_lazy\" data-abuse-product-id=\"158793489\" data-abuse-report-type=\"1\" data-abuse-review-id=\"18278202\" data-original=\"//image.ceneostatic.pl/data/reviews/18278202/f419b275-4d25-4fbd-b088-77a2caa24aa9_t-iiyama-34-gcb3480wqsu-b1.jpg?t=1704985710\" src=\"\"/>\n",
      "</a>\n",
      "</div>\n",
      "</div>\n",
      "<div class=\"user-post__bottom\">\n",
      "</div>\n",
      "</div>\n",
      "<div class=\"user-post__info\">\n",
      "<div class=\"d-flex align-items-center justify-content-end\">\n",
      "<div class=\"js_product-review-usefulness vote\">\n",
      "<button class=\"vote-yes js_product-review-vote js_vote-yes\" data-new-icon=\"vote-up\" data-product-id=\"158793489\" data-review-id=\"18278202\" data-total-vote=\"0\" data-url=\"SetOpinionVote\" data-vote=\"1\" data-voted=\"false\"><span id=\"votes-yes-18278202\">0</span></button>\n",
      "<button class=\"vote-no js_product-review-vote js_vote-no\" data-new-icon=\"vote-down\" data-product-id=\"158793489\" data-review-id=\"18278202\" data-total-vote=\"3\" data-url=\"SetOpinionVote\" data-vote=\"0\" data-voted=\"false\"><span id=\"votes-no-18278202\">3</span></button>\n",
      "</div>\n",
      "<div class=\"dropdown-wrapper\">\n",
      "<span class=\"dots-icon-vert\" data-toggle=\"dropdown\"></span>\n",
      "<ul class=\"dropdown-menu force-left\">\n",
      "<li class=\"dropdown-menu__item\" data-product-id=\"158793489\" data-review-id=\"18278202\">\n",
      "<div class=\"js_report-abuse report-abuse cursor-pointer\" data-report-type=\"1\" role=\"button\">\n",
      "<span>\n",
      "Zgłoś    </span>\n",
      "</div>\n",
      "</li>\n",
      "</ul>\n",
      "</div>\n",
      "</div>\n",
      "<div class=\"review-pz\" data-hint=\"Opinia została napisana przez Użytkownika, który kupił produkt.\">\n",
      "<em>Transakcja pochodzi z Marketplace Ceneo (usługi Kup Teraz).</em>\n",
      "</div>\n",
      "</div>\n",
      "<div class=\"js_product-review-comments js_product-review-hook js_product-review-comments-list\" id=\"product-review-comments-18278202\">\n",
      "<a class=\"user-post js_product-review-comment-toggle\" data-comments-count=\"0\" data-product-review-id=\"158793489\" data-review-id=\"18278202\" href=\"#product-review-comment-18278202\" role=\"button\">\n",
      "</a>\n",
      "<div class=\"js_product-review-form-hook\" id=\"product-review-comment-18278202\"></div>\n",
      "</div>\n",
      "</div>\n",
      "</div>\n"
     ]
    }
   ],
   "source": [
    "page_dom= BeautifulSoup(response.text, \"html.parser\")\n",
    "# print(page_dom)\n",
    "opinions = page_dom.select(\"div.js_product-review\")\n",
    "opinion = page_dom.select_one(\"div.js_product-review\")\n",
    "print(type(page_dom))\n",
    "print(type(opinions))\n",
    "print(type(opinion))\n",
    "print(opinion)\n"
   ]
  },
  {
   "attachments": {},
   "cell_type": "markdown",
   "metadata": {},
   "source": [
    "## Extraction of components of single opinion\n",
    "\n",
    "|component|Selector|Variable|\n",
    "|---------|--------|--------|\n",
    "|opinion ID|[\"data-entry-id\"]|opinion_id|\n",
    "|opinion’s author|user-post__author-name|author|\n",
    "|author’s recommendation|user-post__author-recomendation >  em|recommendation|\n",
    "|score expressed in number of stars|user-post__score-count|score|\n",
    "|opinion’s content|div.user-post__text|content|\n",
    "|list of product advantages|div.review-feature__title review-feature__title--positives ~ div.review-feature__item|pros|\n",
    "|list of product disadvantages|div.review-feature__title review-feature__title--negatives ~ div.review-feature__item|cons|\n",
    "|how many users think that opinion was helpful|button.votes-yes > span|helpful|\n",
    "|how many users think that opinion was unhelpful|button.votes-no > span|unhelpful|\n",
    "|publishing date|span.user-post__published > time:nth-child(1)[\"datetime\"]|publish_date|\n",
    "|purchase date|span.user-post__published > time:nth-child(2)[\"datetime\"]|purchase_date|\n",
    "\n"
   ]
  },
  {
   "cell_type": "code",
   "execution_count": null,
   "metadata": {},
   "outputs": [],
   "source": [
    "opinion_id = opinion[\"data-entry-id\"]\n",
    "author = opinion.select_one([\"user-post__author-name\"])\n",
    "recommendation = [\"\"]"
   ]
  }
 ],
 "metadata": {
  "kernelspec": {
   "display_name": ".venv",
   "language": "python",
   "name": "python3"
  },
  "language_info": {
   "codemirror_mode": {
    "name": "ipython",
    "version": 3
   },
   "file_extension": ".py",
   "mimetype": "text/x-python",
   "name": "python",
   "nbconvert_exporter": "python",
   "pygments_lexer": "ipython3",
   "version": "3.11.4"
  },
  "orig_nbformat": 4
 },
 "nbformat": 4,
 "nbformat_minor": 2
}
